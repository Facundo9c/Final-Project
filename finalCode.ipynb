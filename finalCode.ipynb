{
  "nbformat": 4,
  "nbformat_minor": 0,
  "metadata": {
    "colab": {
      "provenance": [],
      "authorship_tag": "ABX9TyNwZej4pbQnb2xbcuS/yknJ",
      "include_colab_link": true
    },
    "kernelspec": {
      "name": "python3",
      "display_name": "Python 3"
    },
    "language_info": {
      "name": "python"
    }
  },
  "cells": [
    {
      "cell_type": "markdown",
      "metadata": {
        "id": "view-in-github",
        "colab_type": "text"
      },
      "source": [
        "<a href=\"https://colab.research.google.com/github/Facundo9c/Final-Project/blob/main/finalCode.ipynb\" target=\"_parent\"><img src=\"https://colab.research.google.com/assets/colab-badge.svg\" alt=\"Open In Colab\"/></a>"
      ]
    },
    {
      "cell_type": "code",
      "source": [
        "# Install required libraries\n",
        "!pip install torch torchvision pandas scikit-learn --quiet"
      ],
      "metadata": {
        "id": "nhfhwy96bUoG"
      },
      "execution_count": 6,
      "outputs": []
    },
    {
      "cell_type": "code",
      "source": [
        "# Import necessary libraries\n",
        "import torch\n",
        "import torch.nn as nn\n",
        "import torch.optim as optim\n",
        "from sklearn.model_selection import train_test_split\n",
        "from sklearn.preprocessing import StandardScaler\n",
        "import pandas as pd\n",
        "import numpy as np"
      ],
      "metadata": {
        "id": "_eRhgJtnbXS8"
      },
      "execution_count": 7,
      "outputs": []
    },
    {
      "cell_type": "code",
      "source": [
        "# Generate a synthetic dataset\n",
        "def generate_synthetic_data(num_samples=1000):\n",
        "    np.random.seed(42)\n",
        "    team1_odds = np.random.uniform(1.5, 3.0, num_samples)\n",
        "    team2_odds = np.random.uniform(1.5, 3.0, num_samples)\n",
        "    team1_performance = np.random.uniform(50, 100, num_samples)\n",
        "    team2_performance = np.random.uniform(50, 100, num_samples)\n",
        "    outcome = (team1_performance > team2_performance).astype(int)  # 1 if team1 wins, 0 otherwise\n",
        "\n",
        "    data = pd.DataFrame({\n",
        "        'team1_odds': team1_odds,\n",
        "        'team2_odds': team2_odds,\n",
        "        'team1_performance': team1_performance,\n",
        "        'team2_performance': team2_performance,\n",
        "        'outcome': outcome\n",
        "    })\n",
        "    return data"
      ],
      "metadata": {
        "id": "JRQOsm9ebZvu"
      },
      "execution_count": 9,
      "outputs": []
    },
    {
      "cell_type": "code",
      "source": [
        "# Create the dataset\n",
        "data = generate_synthetic_data()"
      ],
      "metadata": {
        "id": "ffWmDyA_bjbA"
      },
      "execution_count": 10,
      "outputs": []
    },
    {
      "cell_type": "code",
      "source": [
        "# Check the first few rows of the dataset\n",
        "print(\"Sample Data:\")\n",
        "print(data.head())\n"
      ],
      "metadata": {
        "colab": {
          "base_uri": "https://localhost:8080/"
        },
        "id": "YJbRwTAtbmeS",
        "outputId": "f350417a-1742-47e8-b882-85ce9d0d410b"
      },
      "execution_count": 11,
      "outputs": [
        {
          "output_type": "stream",
          "name": "stdout",
          "text": [
            "Sample Data:\n",
            "   team1_odds  team2_odds  team1_performance  team2_performance  outcome\n",
            "0    2.061810    1.777699          63.085284          83.635150        0\n",
            "1    2.926071    2.312851          62.348940          89.834070        0\n",
            "2    2.597991    2.809419          95.312729          62.523395        1\n",
            "3    2.397988    2.598337          62.477310          81.243705        0\n",
            "4    1.734028    2.709842          63.597486          78.587299        0\n"
          ]
        }
      ]
    },
    {
      "cell_type": "code",
      "source": [
        "# Split features and target\n",
        "X = data[['team1_odds', 'team2_odds', 'team1_performance', 'team2_performance']]\n",
        "y = data['outcome']"
      ],
      "metadata": {
        "id": "khztM_7ibo8q"
      },
      "execution_count": 12,
      "outputs": []
    },
    {
      "cell_type": "code",
      "source": [
        "# Normalize features\n",
        "scaler = StandardScaler()\n",
        "X = scaler.fit_transform(X)"
      ],
      "metadata": {
        "id": "UcrqjdJNbrkm"
      },
      "execution_count": 13,
      "outputs": []
    },
    {
      "cell_type": "code",
      "source": [
        "# Split data into training and test sets\n",
        "X_train, X_test, y_train, y_test = train_test_split(X, y, test_size=0.2, random_state=42)"
      ],
      "metadata": {
        "id": "FgGfbevQbttk"
      },
      "execution_count": 14,
      "outputs": []
    },
    {
      "cell_type": "code",
      "source": [
        "# Convert data to PyTorch tensors\n",
        "X_train_tensor = torch.tensor(X_train, dtype=torch.float32)\n",
        "y_train_tensor = torch.tensor(y_train.values, dtype=torch.float32).unsqueeze(1)\n",
        "X_test_tensor = torch.tensor(X_test, dtype=torch.float32)\n",
        "y_test_tensor = torch.tensor(y_test.values, dtype=torch.float32).unsqueeze(1)"
      ],
      "metadata": {
        "id": "m_7lkaX_bvnM"
      },
      "execution_count": 15,
      "outputs": []
    },
    {
      "cell_type": "code",
      "source": [
        "# Define a modified AlexNet for tabular data\n",
        "class AlexNetTabular(nn.Module):\n",
        "    def __init__(self, input_features):\n",
        "        super(AlexNetTabular, self).__init__()\n",
        "        self.model = nn.Sequential(\n",
        "            nn.Linear(input_features, 128),\n",
        "            nn.ReLU(),\n",
        "            nn.Dropout(0.3),\n",
        "            nn.Linear(128, 64),\n",
        "            nn.ReLU(),\n",
        "            nn.Linear(64, 1),\n",
        "            nn.Sigmoid()\n",
        "        )\n",
        "\n",
        "    def forward(self, x):\n",
        "        return self.model(x)"
      ],
      "metadata": {
        "id": "Jzww7zT1bxi5"
      },
      "execution_count": 16,
      "outputs": []
    },
    {
      "cell_type": "code",
      "source": [
        "# Initialize model, loss, and optimizer\n",
        "model = AlexNetTabular(input_features=X_train.shape[1])\n",
        "criterion = nn.BCELoss()  # Binary Cross Entropy for binary classification\n",
        "optimizer = optim.Adam(model.parameters(), lr=0.001)"
      ],
      "metadata": {
        "id": "jBOCq2MpbzDk"
      },
      "execution_count": 17,
      "outputs": []
    },
    {
      "cell_type": "code",
      "source": [
        "# Training loop\n",
        "epochs = 20\n",
        "for epoch in range(epochs):\n",
        "    model.train()\n",
        "    optimizer.zero_grad()\n",
        "    predictions = model(X_train_tensor)\n",
        "    loss = criterion(predictions, y_train_tensor)\n",
        "    loss.backward()\n",
        "    optimizer.step()\n",
        "\n",
        "    if (epoch + 1) % 5 == 0:\n",
        "        print(f\"Epoch [{epoch + 1}/{epochs}], Loss: {loss.item():.4f}\")"
      ],
      "metadata": {
        "colab": {
          "base_uri": "https://localhost:8080/"
        },
        "id": "dCmLZ4OXb1U0",
        "outputId": "4dd5e4c0-688e-450b-d358-05bcdd2b8567"
      },
      "execution_count": 18,
      "outputs": [
        {
          "output_type": "stream",
          "name": "stdout",
          "text": [
            "Epoch [5/20], Loss: 0.6229\n",
            "Epoch [10/20], Loss: 0.5440\n",
            "Epoch [15/20], Loss: 0.4563\n",
            "Epoch [20/20], Loss: 0.3796\n"
          ]
        }
      ]
    },
    {
      "cell_type": "code",
      "source": [
        "# Evaluate the model\n",
        "model.eval()\n",
        "with torch.no_grad():\n",
        "    test_predictions = model(X_test_tensor)\n",
        "    test_predictions = (test_predictions > 0.5).float()\n",
        "    accuracy = (test_predictions == y_test_tensor).float().mean()\n",
        "    print(f\"Test Accuracy: {accuracy.item() * 100:.2f}%\")"
      ],
      "metadata": {
        "colab": {
          "base_uri": "https://localhost:8080/"
        },
        "id": "DqHwTgDbb36e",
        "outputId": "e7371f67-8b66-41f6-d797-8d3d2c2bcb6c"
      },
      "execution_count": 19,
      "outputs": [
        {
          "output_type": "stream",
          "name": "stdout",
          "text": [
            "Test Accuracy: 96.00%\n"
          ]
        }
      ]
    },
    {
      "cell_type": "code",
      "source": [
        "# Inference: Betting recommendation\n",
        "def recommend_bet(odds_team1, odds_team2, performance_team1, performance_team2):\n",
        "    features = scaler.transform([[odds_team1, odds_team2, performance_team1, performance_team2]])\n",
        "    features_tensor = torch.tensor(features, dtype=torch.float32)\n",
        "    with torch.no_grad():\n",
        "        prediction = model(features_tensor).item()\n",
        "        recommendation = \"Bet on Team 1\" if prediction > 0.5 else \"Bet on Team 2\"\n",
        "    return recommendation, prediction\n"
      ],
      "metadata": {
        "id": "-Z6zqFDgb61-"
      },
      "execution_count": 20,
      "outputs": []
    },
    {
      "cell_type": "code",
      "source": [
        "# Example usage\n",
        "odds_team1 = 2.1\n",
        "odds_team2 = 1.8\n",
        "performance_team1 = 85\n",
        "performance_team2 = 78\n",
        "\n",
        "recommendation, confidence = recommend_bet(odds_team1, odds_team2, performance_team1, performance_team2)\n",
        "print(f\"Recommendation: {recommendation}, Confidence: {confidence:.2f}\")"
      ],
      "metadata": {
        "colab": {
          "base_uri": "https://localhost:8080/"
        },
        "id": "y0Ak94DTb9FM",
        "outputId": "359d14ab-4ea8-4e75-f618-6de5d9268e58"
      },
      "execution_count": 21,
      "outputs": [
        {
          "output_type": "stream",
          "name": "stdout",
          "text": [
            "Recommendation: Bet on Team 1, Confidence: 0.52\n"
          ]
        },
        {
          "output_type": "stream",
          "name": "stderr",
          "text": [
            "/usr/local/lib/python3.10/dist-packages/sklearn/base.py:493: UserWarning: X does not have valid feature names, but StandardScaler was fitted with feature names\n",
            "  warnings.warn(\n"
          ]
        }
      ]
    }
  ]
}